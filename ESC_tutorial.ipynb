{
 "cells": [
  {
   "cell_type": "markdown",
   "metadata": {},
   "source": [
    "#### This notebook shows how to read the fastMRI dataset and apply some simple transformations to the data."
   ]
  },
  {
   "cell_type": "markdown",
   "metadata": {},
   "source": [
    "#### This notebook does not include the raw data files. In order to run the notebook, you need to download them from https://fastmri.med.nyu.edu/"
   ]
  },
  {
   "cell_type": "code",
   "execution_count": 1,
   "metadata": {},
   "outputs": [],
   "source": [
    "%matplotlib inline\n",
    "import os\n",
    "import h5py\n",
    "import numpy as np\n",
    "from matplotlib import pyplot as plt"
   ]
  },
  {
   "cell_type": "markdown",
   "metadata": {},
   "source": [
    "The fastMRI dataset is distributed as a set of HDF5 files and can be read with the h5py package. Here, we show how to open a file from the multi-coil dataset. Each file corresponds to one MRI scan and contains the k-space data, ground truth and some meta data related to the scan."
   ]
  },
  {
   "cell_type": "code",
   "execution_count": 2,
   "metadata": {},
   "outputs": [],
   "source": [
    "base_path = r\"W:\\fastMRI_brain\\multicoil_train\"\n",
    "file_name = \"file_brain_AXT2_210_6001944.h5\"\n",
    "full_path = os.path.join(base_path, file_name)\n",
    "hf = h5py.File(full_path)"
   ]
  },
  {
   "cell_type": "code",
   "execution_count": 3,
   "metadata": {
    "tags": []
   },
   "outputs": [
    {
     "name": "stdout",
     "output_type": "stream",
     "text": [
      "Keys: ['ismrmrd_header', 'kspace', 'reconstruction_rss']\n",
      "Attrs: {'acquisition': 'AXT2', 'max': 0.0007081719243083575, 'norm': 0.16223164878819385, 'patient_id': '9f1bb52e08717d5f753d9d076f101a7fd971d3f906c3ef8c318caad206891389'}\n"
     ]
    }
   ],
   "source": [
    "print('Keys:', list(hf.keys()))\n",
    "print('Attrs:', dict(hf.attrs))"
   ]
  },
  {
   "cell_type": "markdown",
   "metadata": {},
   "source": [
    "In multi-coil MRIs, k-space has the following shape:\n",
    "(number of slices, number of coils, height, width)\n",
    "\n",
    "For single-coil MRIs, k-space has the following shape:\n",
    "(number of slices, height, width)\n",
    "\n",
    "MRIs are acquired as 3D volumes, the first dimension is the number of 2D slices."
   ]
  },
  {
   "cell_type": "code",
   "execution_count": 4,
   "metadata": {
    "tags": []
   },
   "outputs": [
    {
     "name": "stdout",
     "output_type": "stream",
     "text": [
      "complex64\n",
      "(16, 20, 768, 396)\n"
     ]
    }
   ],
   "source": [
    "volume_kspace = hf['kspace'][()]\n",
    "print(volume_kspace.dtype)\n",
    "print(volume_kspace.shape)"
   ]
  },
  {
   "cell_type": "code",
   "execution_count": 5,
   "metadata": {},
   "outputs": [],
   "source": [
    "slice_kspace = volume_kspace[6] # Choosing the 20-th slice of this volume"
   ]
  },
  {
   "cell_type": "markdown",
   "metadata": {},
   "source": [
    "Let's see what the absolute value of k-space looks like:"
   ]
  },
  {
   "cell_type": "markdown",
   "metadata": {},
   "source": [
    "The fastMRI repo contains some utlity functions to convert k-space into image space. These functions work on PyTorch Tensors. The to_tensor function can convert Numpy arrays to PyTorch Tensors."
   ]
  },
  {
   "cell_type": "code",
   "execution_count": 6,
   "metadata": {},
   "outputs": [
    {
     "name": "stderr",
     "output_type": "stream",
     "text": [
      "C:\\Users\\AIWM_PC\\K-space\\fastmri\\__init__.py:16: UserWarning: Could not retrieve fastmri version!\n",
      "  warnings.warn(\"Could not retrieve fastmri version!\")\n"
     ]
    }
   ],
   "source": [
    "import fastmri\n",
    "from fastmri.data import transforms as T"
   ]
  },
  {
   "cell_type": "code",
   "execution_count": 7,
   "metadata": {},
   "outputs": [],
   "source": [
    "slice_kspace2 = T.to_tensor(slice_kspace)      # Convert from numpy array to pytorch tensor\n",
    "slice_image = fastmri.ifft2c(slice_kspace2)           # Apply Inverse Fourier Transform to get the complex image\n",
    "slice_image_abs = fastmri.complex_abs(slice_image)   # Compute absolute value to get a real image"
   ]
  },
  {
   "cell_type": "markdown",
   "metadata": {},
   "source": [
    "As we can see, each coil in a multi-coil MRI scan focusses on a different region of the image. These coils can be combined into the full image using the Root-Sum-of-Squares (RSS) transform."
   ]
  },
  {
   "cell_type": "code",
   "execution_count": null,
   "metadata": {},
   "outputs": [
    {
     "name": "stderr",
     "output_type": "stream",
     "text": [
      "Optimization Progress:   0%|                                                            | 0/500 [00:00<?, ?iteration/s]"
     ]
    }
   ],
   "source": [
    "import numpy as np\n",
    "from scipy.optimize import minimize\n",
    "import matplotlib.pyplot as plt\n",
    "from tqdm import tqdm\n",
    "\n",
    "# Assume slice_kspace is the given data (shape: [coil, height, width])\n",
    "# Example: slice_kspace = np.random.randn(n_coils, height, width) + 1j * np.random.randn(n_coils, height, width)\n",
    "\n",
    "# Extract data information\n",
    "n_coils, height, width = slice_kspace.shape\n",
    "n_pixels = height * width  # Total number of pixels\n",
    "\n",
    "# Reshape data to (n_pixels, n_coils)\n",
    "A = slice_kspace.reshape(n_coils, n_pixels).T  # Shape: (n_pixels, n_coils)\n",
    "\n",
    "# Compute ground truth (using RSS method)\n",
    "b = np.sqrt(np.sum(np.abs(A)**2, axis=1))  # Shape: (n_pixels,)\n",
    "\n",
    "# Define cost function\n",
    "def cost_function(x, A, b):\n",
    "    \"\"\"\n",
    "    Cost function: minimize the L2 norm of sqrt(|Ax|) - sqrt(|b|)\n",
    "    \"\"\"\n",
    "    x = x.view(np.complex128)  # Convert real vector to complex\n",
    "    Ax = np.dot(A, x)\n",
    "    error = np.sqrt(np.abs(Ax)) - np.sqrt(np.abs(b))\n",
    "    return np.linalg.norm(error)**2\n",
    "\n",
    "# Set initial values\n",
    "x0_real = np.mean(slice_kspace.real, axis=(1, 2))  # Mean of real part for each coil\n",
    "x0_imag = np.mean(slice_kspace.imag, axis=(1, 2))  # Mean of imaginary part for each coil\n",
    "x0 = np.hstack((x0_real, x0_imag))  # Combine real and imaginary parts to create initial values\n",
    "\n",
    "# Use TQDM to display progress\n",
    "tqdm_bar = tqdm(total=500, desc=\"Optimization Progress\", unit=\"iteration\")  # Estimate 500 iterations in total\n",
    "\n",
    "def tqdm_callback(xk):\n",
    "    \"\"\"\n",
    "    Callback function called during optimization\n",
    "    \"\"\"\n",
    "    tqdm_bar.update(1)  # Update progress by 1 step\n",
    "    current_loss = cost_function(xk, A, b)  # Compute current loss\n",
    "    tqdm_bar.set_postfix(loss=f\"{current_loss:.4e}\")\n",
    "\n",
    "# Run optimization\n",
    "result = minimize(\n",
    "    fun=cost_function,\n",
    "    x0=x0,\n",
    "    args=(A, b),\n",
    "    method='L-BFGS-B',\n",
    "    options={'disp': False, 'maxiter': 500},\n",
    "    callback=tqdm_callback  # Pass progress callback\n",
    ")\n",
    "\n",
    "# Close the progress bar\n",
    "tqdm_bar.close()\n",
    "\n",
    "# Recover optimized x\n",
    "x_optimized = result.x.view(np.complex128)\n",
    "\n",
    "# Generate single-coil data\n",
    "single_coil_data = np.dot(A, x_optimized)  # Shape: (n_pixels,)\n",
    "single_coil_image = single_coil_data.reshape(height, width)  # Restore original image size\n",
    "\n",
    "# Check results\n",
    "print(\"Optimized coefficients (x):\", x_optimized)\n",
    "print(\"Single-coil image size:\", single_coil_image.shape)\n",
    "\n",
    "# Visualize single-coil image\n",
    "plt.imshow(np.abs(single_coil_image), cmap='gray')\n",
    "plt.title(\"Single Coil Image\")\n",
    "plt.show()\n"
   ]
  },
  {
   "cell_type": "code",
   "execution_count": null,
   "metadata": {},
   "outputs": [],
   "source": [
    "slice_kspace2 = T.to_tensor(single_coil_image)      # Convert from numpy array to pytorch tensor\n",
    "slice_image = fastmri.ifft2c(slice_kspace2)           # Apply Inverse Fourier Transform to get the complex image\n",
    "slice_image_abs = fastmri.complex_abs(slice_image)   # Compute absolute value to get a real image"
   ]
  },
  {
   "cell_type": "markdown",
   "metadata": {},
   "source": [
    "So far, we have been looking at fully-sampled data. We can simulate under-sampled data by creating a mask and applying it to k-space."
   ]
  },
  {
   "cell_type": "code",
   "execution_count": null,
   "metadata": {},
   "outputs": [],
   "source": [
    "fig = plt.figure()\n",
    "plt.imshow(slice_image_abs, cmap='gray')"
   ]
  },
  {
   "cell_type": "code",
   "execution_count": null,
   "metadata": {},
   "outputs": [],
   "source": [
    "from fastmri.data.subsample import RandomMaskFunc\n",
    "mask_func = RandomMaskFunc(center_fractions=[0.04], accelerations=[12])  # Create the mask function object"
   ]
  },
  {
   "cell_type": "code",
   "execution_count": null,
   "metadata": {},
   "outputs": [],
   "source": [
    "masked_kspace, mask, _ = T.apply_mask(slice_kspace2, mask_func)   # Apply the mask to k-space"
   ]
  },
  {
   "cell_type": "code",
   "execution_count": null,
   "metadata": {},
   "outputs": [],
   "source": [
    "import torch\n",
    "import matplotlib.pyplot as plt\n",
    "\n",
    "# Remove singleton dimensions\n",
    "mask_reshaped = mask.squeeze()  # Remove unnecessary dimensions\n",
    "print(\"Mask Shape after Squeeze:\", mask_reshaped.shape)\n",
    "\n",
    "mask_2d = mask_reshaped.repeat(396, 1).numpy()  # Repeat along a new axis to make it 2D\n",
    "plt.figure(figsize=(10, 5))\n",
    "plt.imshow(mask_2d, cmap=\"gray\")\n",
    "plt.title(\"Visualization of Mask (2D)\")\n",
    "plt.show()"
   ]
  },
  {
   "cell_type": "markdown",
   "metadata": {},
   "source": [
    "Let's see what the subsampled image looks like:"
   ]
  },
  {
   "cell_type": "code",
   "execution_count": null,
   "metadata": {},
   "outputs": [],
   "source": [
    "slice_image = fastmri.ifft2c(masked_kspace)           # Apply Inverse Fourier Transform to get the complex image\n",
    "slice_image_abs = fastmri.complex_abs(slice_image)   # Compute absolute value to get a real image"
   ]
  },
  {
   "cell_type": "code",
   "execution_count": null,
   "metadata": {},
   "outputs": [],
   "source": [
    "plt.imshow(np.abs(slice_image_abs.numpy()), cmap='gray')"
   ]
  },
  {
   "cell_type": "code",
   "execution_count": null,
   "metadata": {},
   "outputs": [],
   "source": []
  }
 ],
 "metadata": {
  "kernelspec": {
   "display_name": "Python 3 (ipykernel)",
   "language": "python",
   "name": "python3"
  },
  "language_info": {
   "codemirror_mode": {
    "name": "ipython",
    "version": 3
   },
   "file_extension": ".py",
   "mimetype": "text/x-python",
   "name": "python",
   "nbconvert_exporter": "python",
   "pygments_lexer": "ipython3",
   "version": "3.11.5"
  }
 },
 "nbformat": 4,
 "nbformat_minor": 4
}
